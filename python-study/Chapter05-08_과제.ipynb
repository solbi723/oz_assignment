{
 "cells": [
  {
   "cell_type": "markdown",
   "metadata": {
    "id": "WXEwMsfUct7U"
   },
   "source": [
    "안녕하세요.<br><br>\n",
    "수강생 여러분~! Chapter05 ~ 08 수업은 잘 들으셨나요?\n",
    "\n",
    "Chapter05 ~ 08의 수업 내용을 바탕으로 아래 문제를 풀어주시면 됩니다.\n",
    "\n",
    "[**답변 입력 방법**]\n",
    "\n",
    "문제 아래에 있는 코드 입력창에 정답코드를 작성하신 후 ▷ 버튼을 클릭해 코드를 실행해보세요<br>"
   ]
  },
  {
   "cell_type": "markdown",
   "metadata": {
    "id": "qoyC9wF-3hvs"
   },
   "source": [
    "-----"
   ]
  },
  {
   "cell_type": "markdown",
   "metadata": {
    "id": "rAD_O3Gmc_43"
   },
   "source": [
    "[문제1]\n",
    "\n",
    "변수명 게임에 들어 있는 값 중 '홀'만 출력되도록 코드를 작성해 주세요\n",
    "\n",
    "게임 = \"홀짝홀짝홀짝\"\n",
    "\n",
    "출력 예시 : \"홀홀홀\"\n"
   ]
  },
  {
   "cell_type": "code",
   "metadata": {
    "id": "74wtVQFFc_h1",
    "ExecuteTime": {
     "end_time": "2024-10-15T08:32:08.276605Z",
     "start_time": "2024-10-15T08:32:08.268861Z"
    }
   },
   "source": [
    "게임 = \"홀짝홀짝홀짝\"\n",
    "print(게임[::2])"
   ],
   "outputs": [
    {
     "name": "stdout",
     "output_type": "stream",
     "text": [
      "홀홀홀\n"
     ]
    }
   ],
   "execution_count": 1
  },
  {
   "cell_type": "markdown",
   "metadata": {},
   "source": [
    "---"
   ]
  },
  {
   "cell_type": "markdown",
   "metadata": {
    "id": "3uK_auXYdgk2"
   },
   "source": [
    "[문제2]\n",
    "\n",
    "변수명 전화번호에 들어 있는 번호를 모두 붙여서 출력되도록 코드를 작성해주세요\n",
    "\n",
    "전화번호 = \"010-1234-5678\"\n",
    "\n",
    "출력 예시 : \"01012345678\""
   ]
  },
  {
   "cell_type": "code",
   "metadata": {
    "id": "9kvBxa6PdhgA",
    "ExecuteTime": {
     "end_time": "2024-10-15T07:26:31.397583Z",
     "start_time": "2024-10-15T07:26:31.390181Z"
    }
   },
   "source": [
    "전화번호 = \"010-1234-5678\"\n",
    "앞 = 전화번호[0:3]\n",
    "중간 = 전화번호[4:8]\n",
    "뒤 = 전화번호[9:13]\n",
    "print(f'\"{앞}{중간}{뒤}\"')"
   ],
   "outputs": [
    {
     "name": "stdout",
     "output_type": "stream",
     "text": [
      "\"01012345678\"\n"
     ]
    }
   ],
   "execution_count": 5
  },
  {
   "cell_type": "markdown",
   "metadata": {},
   "source": [
    "----"
   ]
  },
  {
   "cell_type": "markdown",
   "metadata": {
    "id": "2Jte2VLKdiPm"
   },
   "source": [
    "[문제3]\n",
    "\n",
    "창의성, 시장성, 안정성, 수익성에 대한 각각의 평가 중 아래 기준에 부합하지 못하면 창업지원을 받을 수 없습니다.\n",
    "\n",
    "- 수익성 60점 이상\n",
    "- 창의성과 시장성 50점 이상\n",
    "- 시장성과 수익성을 더한 값의 절반이 안정성 보다 높아야 함\n",
    "\n",
    "다음 점수가 입력되었을때 창업 지원이 가능한지 여부를 True 또는 False로 출력해주세요\n",
    "\n",
    "---\n",
    "\n",
    "창의성 : 62\n",
    "시장성 : 71\n",
    "안정성 : 68\n",
    "수익성 : 66"
   ]
  },
  {
   "cell_type": "code",
   "metadata": {
    "id": "XJhvRO-2djBh",
    "ExecuteTime": {
     "end_time": "2024-10-15T07:35:21.222197Z",
     "start_time": "2024-10-15T07:35:21.217266Z"
    }
   },
   "source": [
    "수익성 , 창의성 , 시장성 , 안정성 = 65, 60, 68, 66\n",
    "print(수익성 >= 60 and 창의성 >= 50 and 시장성 >= 50 and ((시장성 + 수익성)/ 2) > 안정성) "
   ],
   "outputs": [
    {
     "name": "stdout",
     "output_type": "stream",
     "text": [
      "True\n"
     ]
    }
   ],
   "execution_count": 6
  },
  {
   "cell_type": "markdown",
   "metadata": {},
   "source": [
    "#### 모험가들의 레벨업 도전\n",
    "\n",
    "[배경 이야기]\n",
    "\n",
    "당신은 마법사, 전사, 도적, 힐러 네 명의 모험가를 이끄는 리더입니다. \n",
    "\n",
    "각 캐릭터는 힘, 민첩, 지능, 체력이라는 능력치를 가지고 있습니다. 이 능력치들을 이용해 다양한 도전을 해결하고 사냥을 통해 경험치를 얻어 레벨업을 해야 합니다.\n",
    "\n",
    "[동료 캐릭터와 능력치 정보]\n",
    "\n",
    "마법사: 힘(10), 민첩(20), 지능(80), 체력(50)\n",
    "\n",
    "전사: 힘(80), 민첩(30), 지능(20), 체력(100)\n",
    "\n",
    "도적: 힘(40), 민첩(80), 지능(30), 체력(60)\n",
    "\n",
    "힐러: 힘(20), 민첩(40), 지능(70), 체력(70)"
   ]
  },
  {
   "cell_type": "markdown",
   "metadata": {},
   "source": [
    "[문제 1: 첫 번째 사냥]\n",
    "\n",
    "마법사는 몬스터를 사냥하기 위해 마법을 사용합니다. \n",
    "\n",
    "마법을 사용하려면 지능이 50 이상이어야 합니다. 마법사의 지능이 50 이상인지 확인하세요."
   ]
  },
  {
   "cell_type": "code",
   "metadata": {
    "ExecuteTime": {
     "end_time": "2024-10-15T07:49:37.688985Z",
     "start_time": "2024-10-15T07:49:37.685250Z"
    }
   },
   "source": [
    "magician_intelligence = 80\n",
    "use_magic = magician_intelligence >= 50\n",
    "print(use_magic)"
   ],
   "outputs": [
    {
     "name": "stdout",
     "output_type": "stream",
     "text": [
      "True\n"
     ]
    }
   ],
   "execution_count": 9
  },
  {
   "cell_type": "markdown",
   "metadata": {},
   "source": [
    "[문제 2: 두 번째 사냥]\n",
    "\n",
    "전사는 강력한 공격을 하기 위해 자신의 힘을 사용합니다. 전사의 힘이 60 이상이고 체력이 80 이상인지 확인하세요."
   ]
  },
  {
   "cell_type": "code",
   "metadata": {
    "ExecuteTime": {
     "end_time": "2024-10-15T07:54:53.449443Z",
     "start_time": "2024-10-15T07:54:53.445337Z"
    }
   },
   "source": [
    "warrior_strength = 80\n",
    "warrior_health = 100\n",
    "attack = warrior_health >= 80 and warrior_strength >= 60\n",
    "print(attack)"
   ],
   "outputs": [
    {
     "name": "stdout",
     "output_type": "stream",
     "text": [
      "True\n"
     ]
    }
   ],
   "execution_count": 10
  },
  {
   "cell_type": "markdown",
   "metadata": {},
   "source": [
    "[문제 3: 세 번째 사냥]\n",
    "\n",
    "도적은 민첩함을 이용해 몬스터를 회피하고 공격합니다. 도적의 민첩이 70 이상이거나 힘이 50 이상인지 확인하세요."
   ]
  },
  {
   "cell_type": "code",
   "metadata": {
    "ExecuteTime": {
     "end_time": "2024-10-15T08:04:02.838787Z",
     "start_time": "2024-10-15T08:04:02.834917Z"
    }
   },
   "source": [
    "thief_strength = 40\n",
    "thief_agioity = 80\n",
    "dodge = thief_strength >= 50 or thief_agioity >= 70\n",
    "print(dodge)"
   ],
   "outputs": [
    {
     "name": "stdout",
     "output_type": "stream",
     "text": [
      "True\n"
     ]
    }
   ],
   "execution_count": 11
  },
  {
   "cell_type": "markdown",
   "metadata": {},
   "source": [
    "[문제 4: 네 번째 사냥]\n",
    "\n",
    "힐러는 파티의 체력을 회복시키기 위해 마법을 사용합니다. 힐러의 지능이 60 이상이고, 체력이 50 이상인지 확인하세요."
   ]
  },
  {
   "cell_type": "code",
   "metadata": {
    "ExecuteTime": {
     "end_time": "2024-10-15T08:06:58.897715Z",
     "start_time": "2024-10-15T08:06:58.892505Z"
    }
   },
   "source": [
    "healer_intelligence = 70\n",
    "healer_health = 70\n",
    "care = healer_intelligence >= 60 and healer_health >= 50\n",
    "print(care)"
   ],
   "outputs": [
    {
     "name": "stdout",
     "output_type": "stream",
     "text": [
      "True\n"
     ]
    }
   ],
   "execution_count": 12
  },
  {
   "metadata": {},
   "cell_type": "markdown",
   "source": ""
  },
  {
   "cell_type": "markdown",
   "metadata": {},
   "source": [
    "[문제 5: 레벨업]\n",
    "\n",
    "모든 캐릭터가 사냥을 성공적으로 마쳤습니다. 이제 경험치를 얻어 레벨업을 해야 합니다. 각 캐릭터의 경험치는 다음과 같습니다\n",
    "\n",
    "[경험치]\n",
    "\n",
    "마법사: 120\n",
    "\n",
    "전사: 150\n",
    "\n",
    "도적: 110\n",
    "\n",
    "힐러: 90\n",
    "\n",
    "각 캐릭터의 경험치가 100 이상인지 print()를 이용해 확인해주세요"
   ]
  },
  {
   "cell_type": "code",
   "metadata": {
    "ExecuteTime": {
     "end_time": "2024-10-15T08:11:37.261749Z",
     "start_time": "2024-10-15T08:11:37.256234Z"
    }
   },
   "source": [
    "magician_XP = 120\n",
    "warrior_XP = 150\n",
    "thief_XP = 110\n",
    "healer_XP = 90\n",
    "\n",
    "magician_lv_up = magician_XP >= 100\n",
    "warrior_lv_up = warrior_XP >= 100\n",
    "thief_lv_up = thief_XP >= 100\n",
    "healer_lv_up = healer_XP >= 100\n",
    "\n",
    "print(magician_lv_up)\n",
    "print(warrior_lv_up)\n",
    "print(thief_lv_up)\n",
    "print(healer_lv_up)\n"
   ],
   "outputs": [
    {
     "name": "stdout",
     "output_type": "stream",
     "text": [
      "True\n",
      "True\n",
      "True\n",
      "False\n"
     ]
    }
   ],
   "execution_count": 13
  }
 ],
 "metadata": {
  "colab": {
   "authorship_tag": "ABX9TyP7YKA5FdtGggYfD74V7SMJ",
   "provenance": []
  },
  "kernelspec": {
   "display_name": "Python 3 (ipykernel)",
   "name": "python3",
   "language": "python"
  },
  "language_info": {
   "name": "python"
  }
 },
 "nbformat": 4,
 "nbformat_minor": 0
}
