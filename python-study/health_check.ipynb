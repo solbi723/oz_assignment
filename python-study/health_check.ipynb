{
 "cells": [
  {
   "cell_type": "code",
   "id": "initial_id",
   "metadata": {
    "collapsed": true,
    "ExecuteTime": {
     "end_time": "2024-10-15T07:05:23.930032Z",
     "start_time": "2024-10-15T07:05:23.917968Z"
    }
   },
   "source": [
    "import random\n",
    "\n",
    "# 학생 변수 선언 -> list \n",
    "students = [\"강기연\", \"곽예린\", \"감예진\", \"김효은\", \"내한성\",\n",
    "            \"박솔비\", \"서백걸\", \"유효종\", \"이가을\", \"이정제\",\n",
    "            \"임홍민\", \"정미르\", \"조성옥\"]\n",
    "\n",
    "# 그룹 변수 순언\n",
    "groups = {\n",
    "    'group1': [],\n",
    "    'group2': [],\n",
    "    'group3': [],\n",
    "    'group4': [],\n",
    "    'group5': []\n",
    "}\n",
    "\n",
    "# 그룹별 인원 수를 위한 변수 선언\n",
    "group_sizes = {\n",
    "    'group1': 3,\n",
    "    'group2': 3,\n",
    "    'group3': 3,\n",
    "    'group4': 2,\n",
    "    'group5': 2\n",
    "}\n",
    "\n",
    "# 학생들을 랜덤으로 섞기\n",
    "random.shuffle(students)\n",
    "\n",
    "# 학생을 그룹에 배정하는 함수\n",
    "def health_check():\n",
    "\n",
    "    # 학생리스트의 인덱스번호로 사용할 변수 선언 (초기화 한다.)\n",
    "    student_index = 0\n",
    "\n",
    "    # group_sizes 변수(딕셔너리)의 아이템(키, 벨류)를 이용한 반복문\n",
    "    for group, size in group_sizes.items():\n",
    "\n",
    "        # 반복문 내부 변수 size를 이용한 반복분\n",
    "        for _ in range(size):\n",
    "\n",
    "            # 그룹변수의 group에 해당하는 키에 students 변수의 student_index에 해당하는 인덱스 번호를 가진 항목을 추가한다.\n",
    "            groups[group].append(students[student_index])\n",
    "\n",
    "            # 학생리스트의 인덱스번호로 사용할 변수에 1을 더해서 재선언\n",
    "            student_index += 1\n",
    "\n",
    "    # 추가 해놓은 그룹과 아이템을 터미널로 확인해보기\n",
    "    for group, members in groups.items():\n",
    "        print(group, \" : \", members)\n",
    "\n",
    "# 그룹 배정 실행\n",
    "health_check()"
   ],
   "outputs": [
    {
     "name": "stdout",
     "output_type": "stream",
     "text": [
      "group1  :  ['임홍민', '감예진', '박솔비']\n",
      "group2  :  ['이가을', '조성옥', '유효종']\n",
      "group3  :  ['김효은', '곽예린', '강기연']\n",
      "group4  :  ['정미르', '서백걸']\n",
      "group5  :  ['이정제', '내한성']\n"
     ]
    }
   ],
   "execution_count": 2
  }
 ],
 "metadata": {
  "kernelspec": {
   "display_name": "Python 3",
   "language": "python",
   "name": "python3"
  },
  "language_info": {
   "codemirror_mode": {
    "name": "ipython",
    "version": 2
   },
   "file_extension": ".py",
   "mimetype": "text/x-python",
   "name": "python",
   "nbconvert_exporter": "python",
   "pygments_lexer": "ipython2",
   "version": "2.7.6"
  }
 },
 "nbformat": 4,
 "nbformat_minor": 5
}
