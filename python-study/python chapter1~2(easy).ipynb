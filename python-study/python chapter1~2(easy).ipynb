{
 "cells": [
  {
   "metadata": {},
   "cell_type": "markdown",
   "source": "# 파이썬 1~2일차 쪽지시험",
   "id": "5ce5aa2babe14282"
  },
  {
   "metadata": {},
   "cell_type": "markdown",
   "source": [
    "## 문제 1\n",
    "### 오즈코딩스쿨에서 코딩을 처음 시작한 박상훈!\n",
    "### 박상훈에게는 덩치, 애기라는 도마뱀이 있습니다.\n",
    "### 도마뱀의 나이는 각각 1살 2살 입니다.\n",
    "### 각 도마뱀의 이름으로 변수를 선언하고 각 도마뱀의 나이를 할당해주세요!!"
   ],
   "id": "136e2d85abe685b9"
  },
  {
   "metadata": {
    "ExecuteTime": {
     "end_time": "2024-10-17T07:11:35.427231Z",
     "start_time": "2024-10-17T07:11:35.420877Z"
    }
   },
   "cell_type": "code",
   "source": [
    "# 정답 입력\n",
    "덩치 , 애기 = 1 , 2\n",
    "print(f'{덩치}살, {애기}살')"
   ],
   "id": "8e5a1ab9c30b38a7",
   "outputs": [
    {
     "name": "stdout",
     "output_type": "stream",
     "text": [
      "1살, 2살\n"
     ]
    }
   ],
   "execution_count": 9
  },
  {
   "metadata": {},
   "cell_type": "markdown",
   "source": [
    "## 문제 2\n",
    "### 박상훈의 `도마뱀 변수`들을 사용하여 `도마뱀 리스트`를 만들어 주세요!"
   ],
   "id": "94e68ef24ba3e5f7"
  },
  {
   "metadata": {
    "ExecuteTime": {
     "end_time": "2024-10-17T08:43:55.662699Z",
     "start_time": "2024-10-17T08:43:55.656956Z"
    }
   },
   "cell_type": "code",
   "source": [
    "# 정담 입력\n",
    "도마뱀 = [덩치, 애기]\n",
    "\n",
    "도마뱀 "
   ],
   "id": "b8334aff8ce27138",
   "outputs": [
    {
     "data": {
      "text/plain": [
       "[1, 2]"
      ]
     },
     "execution_count": 53,
     "metadata": {},
     "output_type": "execute_result"
    }
   ],
   "execution_count": 53
  },
  {
   "metadata": {},
   "cell_type": "markdown",
   "source": [
    "## 문제 3\n",
    "### 박상훈이 도마뱀을 새로 샀어요!\n",
    "### 도마뱀의 이름은 마고, 나이는 2살이에요!\n",
    "### `도마뱀 리스트`에 가장 끝에 추가해주세요!!"
   ],
   "id": "454fe842db180fc"
  },
  {
   "metadata": {
    "ExecuteTime": {
     "end_time": "2024-10-17T08:44:48.575955Z",
     "start_time": "2024-10-17T08:44:48.570615Z"
    }
   },
   "cell_type": "code",
   "source": [
    "# 정답 입력\n",
    "마고 = 2\n",
    "도마뱀.append(마고)\n",
    "도마뱀  "
   ],
   "id": "3ec1ef1be2927b78",
   "outputs": [
    {
     "data": {
      "text/plain": [
       "[1, 2, 2]"
      ]
     },
     "execution_count": 54,
     "metadata": {},
     "output_type": "execute_result"
    }
   ],
   "execution_count": 54
  },
  {
   "metadata": {},
   "cell_type": "markdown",
   "source": [
    "## 문제 4\n",
    "### 박상훈의 도마뱀들의 나이를 더해 주세요!!"
   ],
   "id": "20ccbdf20f857d13"
  },
  {
   "metadata": {
    "ExecuteTime": {
     "end_time": "2024-10-17T08:45:05.822135Z",
     "start_time": "2024-10-17T08:45:05.818385Z"
    }
   },
   "cell_type": "code",
   "source": [
    "# 정답 입력\n",
    "print(도마뱀[0] + 도마뱀[1] + 도마뱀[2])"
   ],
   "id": "3ebc179d264d3866",
   "outputs": [
    {
     "name": "stdout",
     "output_type": "stream",
     "text": [
      "5\n"
     ]
    }
   ],
   "execution_count": 55
  },
  {
   "metadata": {},
   "cell_type": "markdown",
   "source": [
    "## 문제 5\n",
    "### 박상훈의 `도마뱀 리스트`를 사용하여 \"사육장\"이라는 딕셔너리를 만들어주세요!"
   ],
   "id": "eea768f4f558a28a"
  },
  {
   "metadata": {
    "ExecuteTime": {
     "end_time": "2024-10-17T08:48:54.646428Z",
     "start_time": "2024-10-17T08:48:54.640967Z"
    }
   },
   "cell_type": "code",
   "source": [
    "# 정답 입력\n",
    "사육장 = {\"덩치\": 덩치, \"애기\": 애기, \"마고\": 마고}\n",
    "사육장 \n",
    "\n"
   ],
   "id": "49874bd7d6ee7c2d",
   "outputs": [
    {
     "data": {
      "text/plain": [
       "{'덩치': 1, '애기': 2, '마고': 2}"
      ]
     },
     "execution_count": 69,
     "metadata": {},
     "output_type": "execute_result"
    }
   ],
   "execution_count": 69
  },
  {
   "metadata": {},
   "cell_type": "markdown",
   "source": [
    "## 문제 6\n",
    "### 사육장 딕셔너리를 `key, value` 형태로 출력해주세요!"
   ],
   "id": "a7b973b398f00642"
  },
  {
   "metadata": {
    "ExecuteTime": {
     "end_time": "2024-10-17T09:24:21.343706Z",
     "start_time": "2024-10-17T09:24:21.339433Z"
    }
   },
   "cell_type": "code",
   "source": [
    "# 정답 \n",
    "for key, value in 사육장.items():\n",
    "    print(key, value)"
   ],
   "id": "94544cb2f847228f",
   "outputs": [
    {
     "name": "stdout",
     "output_type": "stream",
     "text": [
      "덩치 1\n",
      "애기 2\n",
      "마고 2\n"
     ]
    }
   ],
   "execution_count": 97
  },
  {
   "metadata": {},
   "cell_type": "markdown",
   "source": "",
   "id": "fec443543704aada"
  },
  {
   "metadata": {},
   "cell_type": "markdown",
   "source": [
    "## 문제 7\n",
    "### 도마뱀들의 나이를 `실수형태`로 출력해주세요!"
   ],
   "id": "a9aa1a28e60e6bf8"
  },
  {
   "metadata": {
    "ExecuteTime": {
     "end_time": "2024-10-17T09:07:25.487257Z",
     "start_time": "2024-10-17T09:07:25.481821Z"
    }
   },
   "cell_type": "code",
   "source": [
    "# 정답 입력\n",
    "도마뱀_나이_실수형태 = [float(덩치), float(애기), float(마고)]\n",
    "도마뱀_나이_실수형태\n"
   ],
   "id": "2183407c40686977",
   "outputs": [
    {
     "data": {
      "text/plain": [
       "[1.0, 2.0, 2.0]"
      ]
     },
     "execution_count": 79,
     "metadata": {},
     "output_type": "execute_result"
    }
   ],
   "execution_count": 79
  },
  {
   "metadata": {},
   "cell_type": "markdown",
   "source": [
    "## 문제 8\n",
    "### 1년이 지났습니다.\n",
    "### 도마뱀들이 1살씩 나이를 먹었어요\n",
    "### 도마뱀들의 나이를 바꿔주세요!"
   ],
   "id": "43428aabdee55513"
  },
  {
   "metadata": {
    "ExecuteTime": {
     "end_time": "2024-10-17T09:10:54.703991Z",
     "start_time": "2024-10-17T09:10:54.698135Z"
    }
   },
   "cell_type": "code",
   "source": [
    "# 정답 입력\n",
    "덩치 += 1\n",
    "애기 += 1\n",
    "마고 += 1\n",
    "\n",
    "덩치, 애기, 마고      "
   ],
   "id": "286dc862809e7e80",
   "outputs": [
    {
     "data": {
      "text/plain": [
       "(8, 9, 9)"
      ]
     },
     "execution_count": 86,
     "metadata": {},
     "output_type": "execute_result"
    }
   ],
   "execution_count": 86
  },
  {
   "metadata": {},
   "cell_type": "markdown",
   "source": [
    "## 문제 9\n",
    "### n년이 지났을 때 도마뱀의 나이가 알고 싶어 졌어요!!\n",
    "### `input` 을 이용해서 n년차 도마뱀들의 나이를 출력해주세요!"
   ],
   "id": "ed5d1e1503e37223"
  },
  {
   "metadata": {
    "ExecuteTime": {
     "end_time": "2024-10-17T09:13:02.193453Z",
     "start_time": "2024-10-17T09:12:59.275555Z"
    }
   },
   "cell_type": "code",
   "source": [
    "# 정답 입력\n",
    "\n",
    "n = int(input(\"몇 년이 지났나요? \"))\n",
    "덩치 += n\n",
    "애기 += n\n",
    "마고 += n\n",
    "\n",
    "print(f\"n년 후 덩치의 나이: {덩치}살\")\n",
    "print(f\"n년 후 애기의 나이: {애기}살\")\n",
    "print(f\"n년 후 마고의 나이: {마고}살\")\n"
   ],
   "id": "7a8db95dd6192d42",
   "outputs": [
    {
     "name": "stdout",
     "output_type": "stream",
     "text": [
      "n년 후 덩치의 나이: 4살\n",
      "n년 후 애기의 나이: 5살\n",
      "n년 후 마고의 나이: 5살\n"
     ]
    }
   ],
   "execution_count": 88
  },
  {
   "metadata": {},
   "cell_type": "markdown",
   "source": [
    "## 문제 10\n",
    "### 5년이 지났습니다\n",
    "### 우리 도마뱀들이 너무 커서 사육장을 분리해야해요!\n",
    "### 딕셔너리로 나누었던 것을 사육장1, 2, 3 `리스트`로 변경하고\n",
    "### 각 도마뱀들을 넣어주세요!"
   ],
   "id": "3e3fd38bd44d9b2e"
  },
  {
   "metadata": {
    "ExecuteTime": {
     "end_time": "2024-10-17T09:19:22.624392Z",
     "start_time": "2024-10-17T09:19:22.617713Z"
    }
   },
   "cell_type": "code",
   "source": [
    "# 정답 입력\n",
    "n = 5\n",
    "덩치 += n\n",
    "애기 += n\n",
    "마고 += n\n",
    "\n",
    "사육장1 = [\"덩치\", 덩치]\n",
    "사육장2 = [\"애기\", 애기]\n",
    "사육장3 = [\"마고\", 마고]\n",
    "\n",
    "사육장1 ,사육장2 , 사육장3"
   ],
   "id": "95ad0c7878164214",
   "outputs": [
    {
     "data": {
      "text/plain": [
       "(['덩치', 29], ['애기', 30], ['마고', 30])"
      ]
     },
     "execution_count": 93,
     "metadata": {},
     "output_type": "execute_result"
    }
   ],
   "execution_count": 93
  },
  {
   "metadata": {},
   "cell_type": "markdown",
   "source": "",
   "id": "e9add10bf3ea4774"
  }
 ],
 "metadata": {
  "kernelspec": {
   "display_name": "Python 3",
   "language": "python",
   "name": "python3"
  },
  "language_info": {
   "codemirror_mode": {
    "name": "ipython",
    "version": 2
   },
   "file_extension": ".py",
   "mimetype": "text/x-python",
   "name": "python",
   "nbconvert_exporter": "python",
   "pygments_lexer": "ipython2",
   "version": "2.7.6"
  }
 },
 "nbformat": 4,
 "nbformat_minor": 5
}
